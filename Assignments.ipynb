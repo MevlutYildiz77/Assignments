{
 "cells": [
  {
   "cell_type": "markdown",
   "source": [
    "# Armstrong Number"
   ],
   "metadata": {}
  },
  {
   "cell_type": "code",
   "execution_count": null,
   "source": [
    "num = int(input(\"Enter a number: \"))\r\n",
    "sum = 0\r\n",
    "\r\n",
    "temp = num\r\n",
    "while temp > 0:\r\n",
    "   digit = temp % 10\r\n",
    "   sum += digit ** 3\r\n",
    "   temp //= 10\r\n",
    "\r\n",
    "if num == sum:\r\n",
    "   print(num,\"is an Armstrong number\")\r\n",
    "else:\r\n",
    "   print(num,\"is not an Armstrong number\")"
   ],
   "outputs": [],
   "metadata": {}
  },
  {
   "cell_type": "markdown",
   "source": [
    "# Covid-19_Risk"
   ],
   "metadata": {}
  },
  {
   "cell_type": "code",
   "execution_count": null,
   "source": [
    "age = input(\"Are you a cigarette addict older than 75 years old? Variable\").strip().lower() == \"yes\"\r\n",
    "chronic = input(\"Do you have a severe chronic disease?\").strip().lower() == \"yes\"\r\n",
    "immune = input(\"Is your immune system too weak?\").strip().lower() == \"yes\"\r\n",
    "print(f\"age: {age}, chronic: {chronic}, immune: {immune}\")\r\n",
    "if age and chronic and immune == True:\r\n",
    "  print(\"You are in risky group\")\r\n",
    "else:\r\n",
    "  print(\"You are not in risky group\")"
   ],
   "outputs": [],
   "metadata": {}
  },
  {
   "cell_type": "markdown",
   "source": [
    "# Password_Reminder"
   ],
   "metadata": {}
  },
  {
   "cell_type": "code",
   "execution_count": null,
   "source": [
    "name = \"Joseph\"\r\n",
    "question = 'What is my name?'\r\n",
    "print(\"Hello, Joseph! The password is : W@12\")\r\n",
    "while True:\r\n",
    "  guess = input(question)\r\n",
    "  if guess == name:\r\n",
    "    print(\"Hello, Joseph! The password is : W@12\")\r\n",
    "  elif guess != name:\r\n",
    "    print(\"Hello, Amina! See you later.\")\r\n",
    "  break"
   ],
   "outputs": [],
   "metadata": {}
  },
  {
   "cell_type": "markdown",
   "source": [
    "# The Most Frequent Element"
   ],
   "metadata": {}
  },
  {
   "cell_type": "code",
   "execution_count": null,
   "source": [
    "lst = [1, 1, 2, 1, 3, 1, 2, 1, 2, 2, 2, 2\r\n",
    "    ]\r\n",
    "freq = []\r\n",
    "counting = [freq.append(lst.count(x)) for x in lst]\r\n",
    "\r\n",
    "max_value = freq.index(max(freq))\r\n",
    "lst[max_value]\r\n",
    "\r\n",
    "print(f\"the most frequent number is {lst[max_value]} and it was {freq[max_value]} times repeated \" )"
   ],
   "outputs": [],
   "metadata": {}
  },
  {
   "cell_type": "markdown",
   "source": [
    "# Prime Numbers"
   ],
   "metadata": {}
  },
  {
   "cell_type": "code",
   "execution_count": 6,
   "source": [
    "prime = []\r\n",
    "minimum = int(input(\" Please Enter the Minimum Value: \"))\r\n",
    "maximum = int(input(\" Please Enter the Maximum Value: \"))\r\n",
    "\r\n",
    "for Number in range (minimum, maximum + 1):\r\n",
    "    count = 0\r\n",
    "    for i in range(2, (int(Number ** 0.5) + 1)):\r\n",
    "        if(Number % i == 0):\r\n",
    "            count = count + 1\r\n",
    "            break\r\n",
    "\r\n",
    "    if (count == 0 and Number != 1):\r\n",
    "        prime.append(Number)\r\n",
    "      \r\n",
    "print(prime)      "
   ],
   "outputs": [
    {
     "output_type": "stream",
     "name": "stdout",
     "text": [
      " Please Enter the Minimum Value: 1\n",
      " Please Enter the Maximum Value: 100\n",
      "[2, 3, 5, 7, 11, 13, 17, 19, 23, 29, 31, 37, 41, 43, 47, 53, 59, 61, 67, 71, 73, 79, 83, 89, 97]\n"
     ]
    }
   ],
   "metadata": {}
  },
  {
   "cell_type": "markdown",
   "source": [
    "# Fibonacci Number"
   ],
   "metadata": {}
  },
  {
   "cell_type": "code",
   "execution_count": null,
   "source": [
    "def fibonacci(number):\r\n",
    "    \r\n",
    "    if number == 0:\r\n",
    "        return 0\r\n",
    "    elif number == 1:\r\n",
    "        return 1\r\n",
    "    else:\r\n",
    "        return fibonacci(number - 1) + fibonacci(number - 2)\r\n",
    "fib_list = []  \r\n",
    "for count in range(1, 11):\r\n",
    "    fib_list.append(fibonacci(count))\r\n",
    "print(fib_list)"
   ],
   "outputs": [],
   "metadata": {}
  },
  {
   "cell_type": "code",
   "execution_count": null,
   "source": [
    "# Fizz Buzz Numbers"
   ],
   "outputs": [],
   "metadata": {}
  },
  {
   "cell_type": "code",
   "execution_count": 1,
   "source": [
    "for i in range(101):\r\n",
    "    if i % 3 == 0 and i % 5 == 0:\r\n",
    "        print(\"fizzbuzz\")\r\n",
    "        continue\r\n",
    "    elif i % 3 == 0:\r\n",
    "        print(\"fizz\")\r\n",
    "        continue\r\n",
    "    elif i % 5 == 0:\r\n",
    "        print(\"buzz\")\r\n",
    "        continue\r\n",
    "    print(i)\r\n",
    "    "
   ],
   "outputs": [
    {
     "output_type": "stream",
     "name": "stdout",
     "text": [
      "fizzbuzz\n",
      "1\n",
      "2\n",
      "fizz\n",
      "4\n",
      "buzz\n",
      "fizz\n",
      "7\n",
      "8\n",
      "fizz\n",
      "buzz\n",
      "11\n",
      "fizz\n",
      "13\n",
      "14\n",
      "fizzbuzz\n",
      "16\n",
      "17\n",
      "fizz\n",
      "19\n",
      "buzz\n",
      "fizz\n",
      "22\n",
      "23\n",
      "fizz\n",
      "buzz\n",
      "26\n",
      "fizz\n",
      "28\n",
      "29\n",
      "fizzbuzz\n",
      "31\n",
      "32\n",
      "fizz\n",
      "34\n",
      "buzz\n",
      "fizz\n",
      "37\n",
      "38\n",
      "fizz\n",
      "buzz\n",
      "41\n",
      "fizz\n",
      "43\n",
      "44\n",
      "fizzbuzz\n",
      "46\n",
      "47\n",
      "fizz\n",
      "49\n",
      "buzz\n",
      "fizz\n",
      "52\n",
      "53\n",
      "fizz\n",
      "buzz\n",
      "56\n",
      "fizz\n",
      "58\n",
      "59\n",
      "fizzbuzz\n",
      "61\n",
      "62\n",
      "fizz\n",
      "64\n",
      "buzz\n",
      "fizz\n",
      "67\n",
      "68\n",
      "fizz\n",
      "buzz\n",
      "71\n",
      "fizz\n",
      "73\n",
      "74\n",
      "fizzbuzz\n",
      "76\n",
      "77\n",
      "fizz\n",
      "79\n",
      "buzz\n",
      "fizz\n",
      "82\n",
      "83\n",
      "fizz\n",
      "buzz\n",
      "86\n",
      "fizz\n",
      "88\n",
      "89\n",
      "fizzbuzz\n",
      "91\n",
      "92\n",
      "fizz\n",
      "94\n",
      "buzz\n",
      "fizz\n",
      "97\n",
      "98\n",
      "fizz\n",
      "buzz\n"
     ]
    }
   ],
   "metadata": {}
  },
  {
   "cell_type": "markdown",
   "source": [
    "# Count the number of each letter in a sentence.."
   ],
   "metadata": {}
  },
  {
   "cell_type": "code",
   "execution_count": 2,
   "source": [
    "#import string\r\n",
    "def LetterCount(str):\r\n",
    "    str= str.lower().strip()\r\n",
    "    list1=list(str)\r\n",
    "    lcDict= {}\r\n",
    "    for l in list1:\r\n",
    "        if l in lcDict:\r\n",
    "            lcDict[l] +=1\r\n",
    "        else:\r\n",
    "            lcDict[l]= 1\r\n",
    "    print (lcDict)\r\n",
    "\r\n",
    "LetterCount(\"hippo runs to us!\")"
   ],
   "outputs": [
    {
     "output_type": "stream",
     "name": "stdout",
     "text": [
      "{'h': 1, 'i': 1, 'p': 2, 'o': 2, ' ': 3, 'r': 1, 'u': 2, 'n': 1, 's': 2, 't': 1, '!': 1}\n"
     ]
    }
   ],
   "metadata": {}
  },
  {
   "cell_type": "markdown",
   "source": [],
   "metadata": {}
  }
 ],
 "metadata": {
  "kernelspec": {
   "name": "python3",
   "display_name": "Python 3.8.8 64-bit ('base': conda)"
  },
  "language_info": {
   "codemirror_mode": {
    "name": "ipython",
    "version": 3
   },
   "file_extension": ".py",
   "mimetype": "text/x-python",
   "name": "python",
   "nbconvert_exporter": "python",
   "pygments_lexer": "ipython3",
   "version": "3.8.8"
  },
  "interpreter": {
   "hash": "37eb40c3388cfde35488e2d005b0d69ca91ddeff8a429754d4da636d3f888e5e"
  }
 },
 "nbformat": 4,
 "nbformat_minor": 5
}